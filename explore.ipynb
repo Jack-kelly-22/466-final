{
  "cells": [
    {
      "cell_type": "markdown",
      "metadata": {
        "id": "Yht_WOC07vJZ"
      },
      "source": [
        "# 466 final project\n",
        "\n",
        "### What we want "
      ]
    },
    {
      "cell_type": "markdown",
      "metadata": {
        "id": "mZmp6OhA7vJe"
      },
      "source": [
        "we want to be able to take a set of users and use their previous transactions to predict what dapps they will use in the future."
      ]
    },
    {
      "cell_type": "markdown",
      "metadata": {
        "id": "85pFAXWP7vJf"
      },
      "source": [
        "## Load and clean user account data\n",
        "these users will be split up into training and testing sets\n",
        "this list of users was pulled from pontem's space pirate whitelist.\n",
        "Pontem is a dapp that allows users to earn 'interest' on their crypto holdings by providing liquidity through their dex (sets of liquidity pools)."
      ]
    },
    {
      "cell_type": "code",
      "execution_count": 2,
      "metadata": {
        "colab": {
          "base_uri": "https://localhost:8080/"
        },
        "id": "nT0SJMKg7vJg",
        "outputId": "9a605835-d324-46aa-a719-29f58fddbad0"
      },
      "outputs": [
        {
          "name": "stdout",
          "output_type": "stream",
          "text": [
            "ALL user ADDR COUNT: 31622\n",
            "PROPPER ADDR COUNT: 31622\n"
          ]
        }
      ],
      "source": [
        "import pandas as pd\n",
        "#load the users csv file (\n",
        "users = open('users.csv').readlines()\n",
        "user_temp = []\n",
        "for user in users:\n",
        "    if len(user)>=66:\n",
        "        user_temp.append(user.split(',')[0])\n",
        "print(\"ALL user ADDR COUNT:\",len(users))\n",
        "users = user_temp\n",
        "\n",
        "print(\"PROPPER ADDR COUNT:\",len(users))\n",
        "\n"
      ]
    },
    {
      "cell_type": "markdown",
      "metadata": {
        "id": "wk2KtmHC7vJi"
      },
      "source": [
        "We also need to load in the information about the dapps that we want to predict for. We will use the dapp list created by 'seam-money' an explorer for dapps on the network"
      ]
    },
    {
      "cell_type": "code",
      "execution_count": 3,
      "metadata": {
        "colab": {
          "base_uri": "https://localhost:8080/"
        },
        "id": "qgU5Il637vJj",
        "outputId": "d4bfa5a2-b003-4028-e389-15c7111d4e22"
      },
      "outputs": [
        {
          "name": "stdout",
          "output_type": "stream",
          "text": [
            "DAPP COUNT: 12\n",
            "DAPP TYPES: 12\n",
            "{'0x62fdfe47c9c37227be1f885e79be827be292fe1833ac63a2fe2c2c16c55ecb12': 'KanaLabs', '0xd1fd99c1944b84d1670a2536417e997864ad12303d19eac725891691b04d614e': 'BlueMove', '0x89576037b3cc0b89645ea393a47787bb348272c76d6941c574b053672b848039': 'Hippo-Labs', '0x2c7bccf7b31baf770fdbcc768d9e9cb3d87805e255355df5db32ac9a669010a2': 'Souffl3', '0x9770fa9c725cbd97eb50b2be5f7416efdfd1f1554beb0750d4dae4c64e860da3': 'Aries', '0x190d44266241744264b964a37b8f09863167a12d3e70cda39376cfb4e3561e12': 'liquidSwap', '0x16fe2df00ea7dde4a63409201f7f4e536bde7bb7335526a35d05111e68aa322c': 'AnimeSwap', '0xd4c70815e9d245a097646af821ecf87a073039e71e93c8cd04a0da082134d296': 'Topaz', '0x98298d34bcf896c663e069c464754e0cfd36b50e21eedd8db0e4189168057cb7': 'Argo', '0x7ab72b249ec24f76fe66b6de19dcee1e3d3361db5c2cccfaa48ea8659060a1bd': 'HoustonSwap', '0xec42a352cc65eca17a9fa85d0fc602295897ed6b8b8af6a6c79ef490eb8f9eba': 'Cetus', '0xbd35135844473187163ca197ca93b2ab014370587bb0ed3befff9e902d6bb541': 'Aux'}\n",
            "dict_values(['KanaLabs', 'BlueMove', 'Hippo-Labs', 'Souffl3', 'Aries', 'liquidSwap', 'AnimeSwap', 'Topaz', 'Argo', 'HoustonSwap', 'Cetus', 'Aux'])\n"
          ]
        }
      ],
      "source": [
        "dapps = open('dapps.csv').readlines()\n",
        "# print(dapps)\n",
        "dapp_dic = {}\n",
        "dapp_types = {}\n",
        "for dapp in dapps:\n",
        "    d = dapp.split(',')\n",
        "    dapp_dic[d[0]] = d[1]\n",
        "    dapp_types[d[1]] = dapp_types.get(d[-1])\n",
        "print(\"DAPP COUNT:\",len(dapp_dic))\n",
        "print(\"DAPP TYPES:\",len(dapp_types))\n",
        "print(dapp_dic)\n",
        "print(dapp_dic.values())"
      ]
    },
    {
      "cell_type": "code",
      "execution_count": null,
      "metadata": {
        "id": "QbobhH2y7vJj",
        "outputId": "5519fcd5-8805-4170-f76e-5cb189df68c5"
      },
      "outputs": [
        {
          "data": {
            "text/plain": [
              "'0x9ee9892d8600ed0bf65173d801ab75204a16ac2c6f190454a3b98f6bcb99d915'"
            ]
          },
          "execution_count": 5,
          "metadata": {},
          "output_type": "execute_result"
        }
      ],
      "source": [
        "users[0]"
      ]
    },
    {
      "cell_type": "code",
      "execution_count": 4,
      "metadata": {
        "colab": {
          "base_uri": "https://localhost:8080/"
        },
        "id": "ilhQ21mV7vJk",
        "outputId": "b91f86af-f3d9-4f0f-ab67-a3c2740b0b6a"
      },
      "outputs": [
        {
          "name": "stdout",
          "output_type": "stream",
          "text": [
            "{'balance': 8.56309932, 'AnimeSwap': 1, 'KanaLabs': 1, 'Hippo-Labs': 4, 'Souffl3': 4, 'Aux': 2, 'BlueMove': 1}\n",
            "{'balance': 0.50684493, 'AnimeSwap': 11}\n",
            "{'balance': 0.86770361, 'BlueMove': 4, 'liquidSwap': 1, 'Souffl3': 2, 'AnimeSwap': 6}\n",
            "{'balance': 1.48933719, 'Souffl3': 11, 'liquidSwap': 1}\n",
            "{'balance': 0.08850767, 'Cetus': 2, 'Souffl3': 11}\n",
            "{'balance': 0.32171948, 'AnimeSwap': 2, 'liquidSwap': 1, 'Aux': 2, 'Souffl3': 4}\n",
            "{'balance': 1.69949497, 'BlueMove': 2, 'Souffl3': 2}\n",
            "{'balance': 0.02974254, 'Souffl3': 3, 'BlueMove': 5, 'Topaz': 1}\n",
            "{'balance': 0.3736268, 'Souffl3': 15, 'AnimeSwap': 5}\n"
          ]
        }
      ],
      "source": [
        "# from flask import jsonify\n",
        "import requests\n",
        "import random\n",
        "NODE_URL = \"https://fullnode.mainnet.aptoslabs.com/v1\"\n",
        "def get_account_transactions(address):\n",
        "    user_dapps = {}\n",
        "    response = requests.get(\n",
        "        f\"{NODE_URL}/accounts/{address}/transactions\",\n",
        "        params={\"limit\": 50}\n",
        "        )\n",
        "    try:\n",
        "        resources = requests.get(\n",
        "            f\"{NODE_URL}/accounts/{address}/resource/0x1::coin::CoinStore<0x1::aptos_coin::AptosCoin>\",\n",
        "            )\n",
        "        resources=resources.json()\n",
        "        user_dapps[\"balance\"] = int(dict(resources)['data']['coin']['value'])/100000000\n",
        "    except:\n",
        "        pass\n",
        "\n",
        "    txs = response.json()\n",
        "    txns_temp = []\n",
        "    for tx in txs:\n",
        "        try:\n",
        "            txn = {}\n",
        "            payload = tx['payload']\n",
        "            to = payload['function'].split('::')[0]\n",
        "            func = payload['function'].split('::')[2]\n",
        "            mod = payload['function'].split('::')[1]\n",
        "            txn['function'] = func\n",
        "            txn['module'] = mod\n",
        "            if to in dapp_dic.keys():\n",
        "                dapp_name = dapp_dic[to]\n",
        "                if dapp_name in user_dapps.keys():\n",
        "                    user_dapps[dapp_name] = 1 + user_dapps[dapp_name]\n",
        "                else:\n",
        "                    user_dapps[dapp_name] = 1\n",
        "            txns_temp.append(txn)\n",
        "        except:\n",
        "            pass\n",
        "    return txns_temp,user_dapps\n",
        "\n",
        "def find_dapps_used(address):\n",
        "    transactions,dapps = get_account_transactions(address)\n",
        "    return dapps\n",
        "\n",
        "users_used_dapps = {}\n",
        "# demo_users = random.sample(users, 100)\n",
        "for user in users[:20]:\n",
        "    # print(\"USER:\",user)\n",
        "    dapps = find_dapps_used(user)\n",
        "    if len(dapps.keys())>1 and \"balance\" in dapps.keys():\n",
        "        users_used_dapps[user] = dapps\n",
        "        print(users_used_dapps[user])\n",
        "\n"
      ]
    },
    {
      "cell_type": "code",
      "execution_count": 1,
      "metadata": {},
      "outputs": [
        {
          "ename": "NameError",
          "evalue": "name 'random' is not defined",
          "output_type": "error",
          "traceback": [
            "\u001b[0;31m---------------------------------------------------------------------------\u001b[0m",
            "\u001b[0;31mNameError\u001b[0m                                 Traceback (most recent call last)",
            "\u001b[0;32m<ipython-input-1-33075b61a971>\u001b[0m in \u001b[0;36m<module>\u001b[0;34m\u001b[0m\n\u001b[1;32m     11\u001b[0m     \u001b[0;32mreturn\u001b[0m \u001b[0musers_dapps\u001b[0m\u001b[0;34m\u001b[0m\u001b[0;34m\u001b[0m\u001b[0m\n\u001b[1;32m     12\u001b[0m \u001b[0;34m\u001b[0m\u001b[0m\n\u001b[0;32m---> 13\u001b[0;31m \u001b[0mtest_users_dapps\u001b[0m \u001b[0;34m=\u001b[0m \u001b[0mget_test_users_dapps\u001b[0m\u001b[0;34m(\u001b[0m\u001b[0;36m10\u001b[0m\u001b[0;34m)\u001b[0m\u001b[0;34m\u001b[0m\u001b[0;34m\u001b[0m\u001b[0m\n\u001b[0m\u001b[1;32m     14\u001b[0m \u001b[0mprint\u001b[0m\u001b[0;34m(\u001b[0m\u001b[0mtest_users_dapps\u001b[0m\u001b[0;34m)\u001b[0m\u001b[0;34m\u001b[0m\u001b[0;34m\u001b[0m\u001b[0m\n\u001b[1;32m     15\u001b[0m \u001b[0;34m\u001b[0m\u001b[0m\n",
            "\u001b[0;32m<ipython-input-1-33075b61a971>\u001b[0m in \u001b[0;36mget_test_users_dapps\u001b[0;34m(n)\u001b[0m\n\u001b[1;32m      3\u001b[0m \u001b[0;34m\u001b[0m\u001b[0m\n\u001b[1;32m      4\u001b[0m \u001b[0;32mdef\u001b[0m \u001b[0mget_test_users_dapps\u001b[0m\u001b[0;34m(\u001b[0m\u001b[0mn\u001b[0m\u001b[0;34m)\u001b[0m\u001b[0;34m:\u001b[0m\u001b[0;34m\u001b[0m\u001b[0;34m\u001b[0m\u001b[0m\n\u001b[0;32m----> 5\u001b[0;31m     \u001b[0mtest_users\u001b[0m \u001b[0;34m=\u001b[0m \u001b[0mget_test_users\u001b[0m\u001b[0;34m(\u001b[0m\u001b[0mn\u001b[0m\u001b[0;34m)\u001b[0m\u001b[0;34m\u001b[0m\u001b[0;34m\u001b[0m\u001b[0m\n\u001b[0m\u001b[1;32m      6\u001b[0m     \u001b[0musers_dapps\u001b[0m \u001b[0;34m=\u001b[0m \u001b[0;34m{\u001b[0m\u001b[0;34m}\u001b[0m\u001b[0;34m\u001b[0m\u001b[0;34m\u001b[0m\u001b[0m\n\u001b[1;32m      7\u001b[0m     \u001b[0;32mfor\u001b[0m \u001b[0muser\u001b[0m \u001b[0;32min\u001b[0m \u001b[0mtest_users\u001b[0m\u001b[0;34m:\u001b[0m\u001b[0;34m\u001b[0m\u001b[0;34m\u001b[0m\u001b[0m\n",
            "\u001b[0;32m<ipython-input-1-33075b61a971>\u001b[0m in \u001b[0;36mget_test_users\u001b[0;34m(n)\u001b[0m\n\u001b[1;32m      1\u001b[0m \u001b[0;32mdef\u001b[0m \u001b[0mget_test_users\u001b[0m\u001b[0;34m(\u001b[0m\u001b[0mn\u001b[0m\u001b[0;34m)\u001b[0m\u001b[0;34m:\u001b[0m\u001b[0;34m\u001b[0m\u001b[0;34m\u001b[0m\u001b[0m\n\u001b[0;32m----> 2\u001b[0;31m     \u001b[0;32mreturn\u001b[0m \u001b[0mrandom\u001b[0m\u001b[0;34m.\u001b[0m\u001b[0msample\u001b[0m\u001b[0;34m(\u001b[0m\u001b[0musers\u001b[0m\u001b[0;34m,\u001b[0m \u001b[0mn\u001b[0m\u001b[0;34m)\u001b[0m\u001b[0;34m\u001b[0m\u001b[0;34m\u001b[0m\u001b[0m\n\u001b[0m\u001b[1;32m      3\u001b[0m \u001b[0;34m\u001b[0m\u001b[0m\n\u001b[1;32m      4\u001b[0m \u001b[0;32mdef\u001b[0m \u001b[0mget_test_users_dapps\u001b[0m\u001b[0;34m(\u001b[0m\u001b[0mn\u001b[0m\u001b[0;34m)\u001b[0m\u001b[0;34m:\u001b[0m\u001b[0;34m\u001b[0m\u001b[0;34m\u001b[0m\u001b[0m\n\u001b[1;32m      5\u001b[0m     \u001b[0mtest_users\u001b[0m \u001b[0;34m=\u001b[0m \u001b[0mget_test_users\u001b[0m\u001b[0;34m(\u001b[0m\u001b[0mn\u001b[0m\u001b[0;34m)\u001b[0m\u001b[0;34m\u001b[0m\u001b[0;34m\u001b[0m\u001b[0m\n",
            "\u001b[0;31mNameError\u001b[0m: name 'random' is not defined"
          ]
        }
      ],
      "source": [
        "\n",
        "\n",
        "\n",
        "# for user in users[:2000]:\n",
        "#     # print(\"USER:\",user)\n",
        "#     dapps = find_dapps_used(user)\n",
        "#     if len(dapps.keys())>1 and \"balance\" in dapps.keys():\n",
        "#         users_used_dapps[user] = dapps\n",
        "#         print(users_used_dapps[user])\n"
      ]
    },
    {
      "cell_type": "code",
      "execution_count": 7,
      "metadata": {
        "colab": {
          "base_uri": "https://localhost:8080/"
        },
        "id": "pC0z8lB0Kl-P",
        "outputId": "dca40817-4b90-4a01-ebf0-8593df8f8d2d"
      },
      "outputs": [
        {
          "name": "stdout",
          "output_type": "stream",
          "text": [
            "{'balance': 599.75241229, 'liquidSwap': 2}\n"
          ]
        }
      ],
      "source": [
        "# now we want this dic as a list and to sort it by highest balance\n",
        "user_ls = list(users_used_dapps.values())\n",
        "sorted_list = sorted(user_ls, key=lambda x: float(x[\"balance\"]))\n",
        "print(sorted_list[-1])"
      ]
    },
    {
      "cell_type": "code",
      "execution_count": 9,
      "metadata": {
        "colab": {
          "base_uri": "https://localhost:8080/",
          "height": 279
        },
        "id": "-W7N6mm1NdkW",
        "outputId": "6c58f758-9bbe-420c-dcc6-4a55d31bf59d"
      },
      "outputs": [
        {
          "data": {
            "image/png": "[encoded data removed]",
            "text/plain": [
              "<Figure size 432x288 with 1 Axes>"
            ]
          },
          "metadata": {
            "needs_background": "light"
          },
          "output_type": "display_data"
        }
      ],
      "source": [
        "from matplotlib import pyplot as plt\n",
        "import pandas as pd\n",
        "balances = [float(t['balance']) for t in sorted_list]\n",
        "users = [i for i in range(len(sorted_list))]\n",
        "\n",
        "plt.plot(balances)\n",
        "plt.legend(labels=['Balance'])\n",
        "plt.xlabel(\"user\")\n",
        "plt.ylabel(\"Balance\")\n",
        "\n",
        "plt.show()"
      ]
    },
    {
      "cell_type": "code",
      "execution_count": 10,
      "metadata": {
        "colab": {
          "base_uri": "https://localhost:8080/",
          "height": 302
        },
        "id": "unAwX0sVwHYj",
        "outputId": "01826393-db57-473a-93da-429b3d01f7e5"
      },
      "outputs": [
        {
          "name": "stdout",
          "output_type": "stream",
          "text": [
            "dict_values(['KanaLabs', 'BlueMove', 'Hippo-Labs', 'Souffl3', 'Aries', 'liquidSwap', 'AnimeSwap', 'Topaz', 'Argo', 'HoustonSwap', 'Cetus', 'Aux'])\n"
          ]
        }
      ],
      "source": [
        "# num_bins = 4\n",
        "# n, bins, patches = plt.hist(balances, num_bins, facecolor='blue',alpha=0.9)\n",
        "# plt.show()\n",
        "dapp_ls = dapp_dic.values()\n",
        "print(dapp_ls)"
      ]
    },
    {
      "cell_type": "code",
      "execution_count": 11,
      "metadata": {
        "colab": {
          "base_uri": "https://localhost:8080/"
        },
        "id": "m7QBjhaiQrBa",
        "outputId": "6eb89846-7f95-4729-b4fc-cfacdd937e3d"
      },
      "outputs": [
        {
          "name": "stdout",
          "output_type": "stream",
          "text": [
            "{'KanaLabs': 0.1111111111111111, 'BlueMove': 0.4444444444444444, 'Hippo-Labs': 0.1111111111111111, 'Souffl3': 0.8888888888888888, 'Aries': 0.0, 'liquidSwap': 0.3333333333333333, 'AnimeSwap': 0.5555555555555556, 'Topaz': 0.1111111111111111, 'Argo': 0.0, 'HoustonSwap': 0.0, 'Cetus': 0.1111111111111111, 'Aux': 0.2222222222222222}\n",
            "0.125\n",
            "given that you use BlueMove the probability you use KanaLabs is 0.25\n",
            "given that you use Hippo-Labs the probability you use KanaLabs is 1.0\n",
            "given that you use Souffl3 the probability you use KanaLabs is 0.125\n",
            "given that you use Aries the probability you use KanaLabs is 0\n",
            "given that you use liquidSwap the probability you use KanaLabs is 0.0\n",
            "given that you use AnimeSwap the probability you use KanaLabs is 0.19999999999999998\n",
            "given that you use Topaz the probability you use KanaLabs is 0.0\n",
            "given that you use Argo the probability you use KanaLabs is 0\n",
            "given that you use HoustonSwap the probability you use KanaLabs is 0\n",
            "given that you use Cetus the probability you use KanaLabs is 0.0\n",
            "given that you use Aux the probability you use KanaLabs is 0.5\n",
            "given that you use KanaLabs the probability you use BlueMove is 1.0\n",
            "given that you use Hippo-Labs the probability you use BlueMove is 1.0\n",
            "given that you use Souffl3 the probability you use BlueMove is 0.5\n",
            "given that you use Aries the probability you use BlueMove is 0\n",
            "given that you use liquidSwap the probability you use BlueMove is 0.3333333333333333\n",
            "given that you use AnimeSwap the probability you use BlueMove is 0.39999999999999997\n",
            "given that you use Topaz the probability you use BlueMove is 1.0\n",
            "given that you use Argo the probability you use BlueMove is 0\n",
            "given that you use HoustonSwap the probability you use BlueMove is 0\n",
            "given that you use Cetus the probability you use BlueMove is 0.0\n",
            "given that you use Aux the probability you use BlueMove is 0.5\n",
            "given that you use KanaLabs the probability you use Hippo-Labs is 1.0\n",
            "given that you use BlueMove the probability you use Hippo-Labs is 0.25\n",
            "given that you use Souffl3 the probability you use Hippo-Labs is 0.125\n",
            "given that you use Aries the probability you use Hippo-Labs is 0\n",
            "given that you use liquidSwap the probability you use Hippo-Labs is 0.0\n",
            "given that you use AnimeSwap the probability you use Hippo-Labs is 0.19999999999999998\n",
            "given that you use Topaz the probability you use Hippo-Labs is 0.0\n",
            "given that you use Argo the probability you use Hippo-Labs is 0\n",
            "given that you use HoustonSwap the probability you use Hippo-Labs is 0\n",
            "given that you use Cetus the probability you use Hippo-Labs is 0.0\n",
            "given that you use Aux the probability you use Hippo-Labs is 0.5\n",
            "given that you use KanaLabs the probability you use Souffl3 is 1.0\n",
            "given that you use BlueMove the probability you use Souffl3 is 1.0\n",
            "given that you use Hippo-Labs the probability you use Souffl3 is 1.0\n",
            "given that you use Aries the probability you use Souffl3 is 0\n",
            "given that you use liquidSwap the probability you use Souffl3 is 1.0\n",
            "given that you use AnimeSwap the probability you use Souffl3 is 0.7999999999999999\n",
            "given that you use Topaz the probability you use Souffl3 is 1.0\n",
            "given that you use Argo the probability you use Souffl3 is 0\n",
            "given that you use HoustonSwap the probability you use Souffl3 is 0\n",
            "given that you use Cetus the probability you use Souffl3 is 1.0\n",
            "given that you use Aux the probability you use Souffl3 is 1.0\n",
            "given that you use KanaLabs the probability you use Aries is 0.0\n",
            "given that you use BlueMove the probability you use Aries is 0.0\n",
            "given that you use Hippo-Labs the probability you use Aries is 0.0\n",
            "given that you use Souffl3 the probability you use Aries is 0.0\n",
            "given that you use liquidSwap the probability you use Aries is 0.0\n",
            "given that you use AnimeSwap the probability you use Aries is 0.0\n",
            "given that you use Topaz the probability you use Aries is 0.0\n",
            "given that you use Argo the probability you use Aries is 0\n",
            "given that you use HoustonSwap the probability you use Aries is 0\n",
            "given that you use Cetus the probability you use Aries is 0.0\n",
            "given that you use Aux the probability you use Aries is 0.0\n",
            "given that you use KanaLabs the probability you use liquidSwap is 0.0\n",
            "given that you use BlueMove the probability you use liquidSwap is 0.25\n",
            "given that you use Hippo-Labs the probability you use liquidSwap is 0.0\n",
            "given that you use Souffl3 the probability you use liquidSwap is 0.375\n",
            "given that you use Aries the probability you use liquidSwap is 0\n",
            "given that you use AnimeSwap the probability you use liquidSwap is 0.39999999999999997\n",
            "given that you use Topaz the probability you use liquidSwap is 0.0\n",
            "given that you use Argo the probability you use liquidSwap is 0\n",
            "given that you use HoustonSwap the probability you use liquidSwap is 0\n",
            "given that you use Cetus the probability you use liquidSwap is 0.0\n",
            "given that you use Aux the probability you use liquidSwap is 0.5\n",
            "given that you use KanaLabs the probability you use AnimeSwap is 1.0000000000000002\n",
            "given that you use BlueMove the probability you use AnimeSwap is 0.5000000000000001\n",
            "given that you use Hippo-Labs the probability you use AnimeSwap is 1.0000000000000002\n",
            "given that you use Souffl3 the probability you use AnimeSwap is 0.5000000000000001\n",
            "given that you use Aries the probability you use AnimeSwap is 0\n",
            "given that you use liquidSwap the probability you use AnimeSwap is 0.6666666666666667\n",
            "given that you use Topaz the probability you use AnimeSwap is 0.0\n",
            "given that you use Argo the probability you use AnimeSwap is 0\n",
            "given that you use HoustonSwap the probability you use AnimeSwap is 0\n",
            "given that you use Cetus the probability you use AnimeSwap is 0.0\n",
            "given that you use Aux the probability you use AnimeSwap is 1.0000000000000002\n",
            "given that you use KanaLabs the probability you use Topaz is 0.0\n",
            "given that you use BlueMove the probability you use Topaz is 0.25\n",
            "given that you use Hippo-Labs the probability you use Topaz is 0.0\n",
            "given that you use Souffl3 the probability you use Topaz is 0.125\n",
            "given that you use Aries the probability you use Topaz is 0\n",
            "given that you use liquidSwap the probability you use Topaz is 0.0\n",
            "given that you use AnimeSwap the probability you use Topaz is 0.0\n",
            "given that you use Argo the probability you use Topaz is 0\n",
            "given that you use HoustonSwap the probability you use Topaz is 0\n",
            "given that you use Cetus the probability you use Topaz is 0.0\n",
            "given that you use Aux the probability you use Topaz is 0.0\n",
            "given that you use KanaLabs the probability you use Argo is 0.0\n",
            "given that you use BlueMove the probability you use Argo is 0.0\n",
            "given that you use Hippo-Labs the probability you use Argo is 0.0\n",
            "given that you use Souffl3 the probability you use Argo is 0.0\n",
            "given that you use Aries the probability you use Argo is 0\n",
            "given that you use liquidSwap the probability you use Argo is 0.0\n",
            "given that you use AnimeSwap the probability you use Argo is 0.0\n",
            "given that you use Topaz the probability you use Argo is 0.0\n",
            "given that you use HoustonSwap the probability you use Argo is 0\n",
            "given that you use Cetus the probability you use Argo is 0.0\n",
            "given that you use Aux the probability you use Argo is 0.0\n",
            "given that you use KanaLabs the probability you use HoustonSwap is 0.0\n",
            "given that you use BlueMove the probability you use HoustonSwap is 0.0\n",
            "given that you use Hippo-Labs the probability you use HoustonSwap is 0.0\n",
            "given that you use Souffl3 the probability you use HoustonSwap is 0.0\n",
            "given that you use Aries the probability you use HoustonSwap is 0\n",
            "given that you use liquidSwap the probability you use HoustonSwap is 0.0\n",
            "given that you use AnimeSwap the probability you use HoustonSwap is 0.0\n",
            "given that you use Topaz the probability you use HoustonSwap is 0.0\n",
            "given that you use Argo the probability you use HoustonSwap is 0\n",
            "given that you use Cetus the probability you use HoustonSwap is 0.0\n",
            "given that you use Aux the probability you use HoustonSwap is 0.0\n",
            "given that you use KanaLabs the probability you use Cetus is 0.0\n",
            "given that you use BlueMove the probability you use Cetus is 0.0\n",
            "given that you use Hippo-Labs the probability you use Cetus is 0.0\n",
            "given that you use Souffl3 the probability you use Cetus is 0.125\n",
            "given that you use Aries the probability you use Cetus is 0\n",
            "given that you use liquidSwap the probability you use Cetus is 0.0\n",
            "given that you use AnimeSwap the probability you use Cetus is 0.0\n",
            "given that you use Topaz the probability you use Cetus is 0.0\n",
            "given that you use Argo the probability you use Cetus is 0\n",
            "given that you use HoustonSwap the probability you use Cetus is 0\n",
            "given that you use Aux the probability you use Cetus is 0.0\n",
            "given that you use KanaLabs the probability you use Aux is 1.0\n",
            "given that you use BlueMove the probability you use Aux is 0.25\n",
            "given that you use Hippo-Labs the probability you use Aux is 1.0\n",
            "given that you use Souffl3 the probability you use Aux is 0.25\n",
            "given that you use Aries the probability you use Aux is 0\n",
            "given that you use liquidSwap the probability you use Aux is 0.3333333333333333\n",
            "given that you use AnimeSwap the probability you use Aux is 0.39999999999999997\n",
            "given that you use Topaz the probability you use Aux is 0.0\n",
            "given that you use Argo the probability you use Aux is 0\n",
            "given that you use HoustonSwap the probability you use Aux is 0\n",
            "given that you use Cetus the probability you use Aux is 0.0\n"
          ]
        }
      ],
      "source": [
        "# find the portion of users that use each dapp\n",
        "def dapp_usage(dapp,users):\n",
        "    count = 0\n",
        "    for user in users.values():\n",
        "        if dapp in user.keys():\n",
        "            count += 1\n",
        "    return count/len(users.keys())\n",
        "dapp_probs = {}\n",
        "for dapp in dapp_ls:\n",
        "    dapp_probs[dapp] = dapp_usage(dapp,users_used_dapps)\n",
        "\n",
        "def count_uses_both(dappa,dappb,users_used_dapps):\n",
        "    count = 0\n",
        "    total = 0\n",
        "    for user in users_used_dapps.values():\n",
        "        if dappa in user.keys() and dappb in user.keys():\n",
        "            count += 1\n",
        "        if dappa in user.keys():\n",
        "            total += 1\n",
        "    if total == 0:\n",
        "        return 0\n",
        "    return count/total\n",
        "# given user uses Bdapp, what is the probability they use Adapp\n",
        "def conditional_prob(A,B,dapp_probs):\n",
        "    # pA = dapp_probs[A]\n",
        "    pB = dapp_probs[B]\n",
        "    pAB = count_uses_both(A,B,users_used_dapps)*dapp_probs[A]\n",
        "    if pB == 0:\n",
        "        return 0\n",
        "    return pAB/pB\n",
        "print(dapp_probs)\n",
        "\n",
        "# find the conditional probability of using a dapp given that you use another dapp\n",
        "\n",
        "def print_prob(A,B,probs):\n",
        "    print(\"given that you use\",B,\"the probability you use\",A,\"is\",probs)\n",
        "\n",
        "print(conditional_prob(\"KanaLabs\",\"Souffl3\",dapp_probs))\n",
        "prob_dic = {}\n",
        "for dapp in dapp_ls:\n",
        "    for dapp2 in dapp_ls:\n",
        "        if dapp != dapp2:\n",
        "            prob_A_given_B = conditional_prob(dapp,dapp2,dapp_probs)\n",
        "            print_prob(dapp,dapp2,prob_A_given_B)\n",
        "            prob_dic[dapp+\"|\"+dapp2] = prob_A_given_B\n"
      ]
    },
    {
      "cell_type": "code",
      "execution_count": 16,
      "metadata": {
        "colab": {
          "base_uri": "https://localhost:8080/"
        },
        "id": "EGSHgcMmp5wm",
        "outputId": "7b407d0c-4b61-48e2-c59b-c61614bb0b6d"
      },
      "outputs": [
        {
          "name": "stdout",
          "output_type": "stream",
          "text": [
            "('BlueMove|Hippo-Labs', 1.0)\n",
            "('BlueMove|Topaz', 1.0)\n",
            "('Hippo-Labs|KanaLabs', 1.0)\n",
            "('Souffl3|KanaLabs', 1.0)\n",
            "('Souffl3|BlueMove', 1.0)\n",
            "('Souffl3|Hippo-Labs', 1.0)\n",
            "('Souffl3|liquidSwap', 1.0)\n",
            "('Souffl3|Topaz', 1.0)\n",
            "('Souffl3|Cetus', 1.0)\n",
            "('Souffl3|Aux', 1.0)\n",
            "('Aux|KanaLabs', 1.0)\n",
            "('Aux|Hippo-Labs', 1.0)\n",
            "('AnimeSwap|KanaLabs', 1.0000000000000002)\n",
            "('AnimeSwap|Hippo-Labs', 1.0000000000000002)\n",
            "('AnimeSwap|Aux', 1.0000000000000002)\n",
            "found\n",
            "Aries\n"
          ]
        }
      ],
      "source": [
        "#  find the most related dapps\n",
        "high_probs = []\n",
        "for dapp_prob in prob_dic.keys():\n",
        "  if dapp_prob not in dapp_ls:\n",
        "    high_probs.append((dapp_prob,prob_dic[dapp_prob]))\n",
        "\n",
        "high_probs = sorted(high_probs, key=lambda x: float(x[1]))\n",
        "# print(high_probs[-10:])\n",
        "\n",
        "for prob in high_probs[-15:]:\n",
        "  print(prob)\n",
        "\n",
        "# reverse high probs\n",
        "\n",
        "\n",
        "def highest_given(dapp):\n",
        "  highest = 0\n",
        "  highest_dapp = \"\"\n",
        "  for dapp_prob in high_probs:\n",
        "    sp = dapp_prob[0].split(\"|\")\n",
        "    if len(sp)>1 and sp[1] == dapp:\n",
        "      print('found')\n",
        "      return sp[0]\n",
        "\n",
        "with_hippo = highest_given(\"Hippo-Labs\")\n",
        "print(with_hippo)\n"
      ]
    },
    {
      "cell_type": "code",
      "execution_count": 17,
      "metadata": {},
      "outputs": [],
      "source": [
        "import random\n",
        "\n",
        "def get_test_users(n):\n",
        "    return random.sample(users, n)\n",
        "\n",
        "def get_test_users_dapps(n):\n",
        "    test_users = get_test_users(n)\n",
        "    users_dapps = {}\n",
        "    for user in test_users:\n",
        "        dapps = find_dapps_used(user)\n",
        "        if len(dapps.keys())>1 and \"balance\" in dapps.keys():\n",
        "            users_dapps[user] = dapps\n",
        "    return users_dapps\n",
        "\n",
        "test_users_dapps = get_test_users_dapps(10)\n",
        "print(test_users_dapps)\n",
        "most_used_per_user = {}\n",
        "for user in test_users_dapps.keys():\n",
        "    most_used_per_user[user] = max(test_users_dapps[user], key=test_users_dapps[user].get)\n",
        "print(most_used_per_user)\n",
        "\n",
        "# for each most used dapp find the other dapps that are most likely to be used\n",
        "for user in most_used_per_user.keys():\n",
        "    dapp = most_used_per_user[user]\n",
        "    for dapp2 in dapp_ls:\n",
        "        if dapp != dapp2:\n",
        "            prob_A_given_B = conditional_prob(dapp,dapp2,dapp_probs)\n",
        "            print_prob(dapp,dapp2,prob_A_given_B)\n",
        "            prob_dic[dapp+\"|\"+dapp2] = prob_A_given_B\n",
        "    \n"
      ]
    },
    {
      "cell_type": "code",
      "execution_count": 34,
      "metadata": {
        "colab": {
          "base_uri": "https://localhost:8080/",
          "height": 424
        },
        "id": "u6cw6XoS9ggG",
        "outputId": "cf51e6a6-77dd-49e2-8725-96a11df3e154"
      },
      "outputs": [
        {
          "data": {
            "text/html": [
              "\n",
              "  <div id=\"df-31e4cdc4-7cac-4f0c-b039-08b3ec7e66a4\">\n",
              "    <div class=\"colab-df-container\">\n",
              "      <div>\n",
              "<style scoped>\n",
              "    .dataframe tbody tr th:only-of-type {\n",
              "        vertical-align: middle;\n",
              "    }\n",
              "\n",
              "    .dataframe tbody tr th {\n",
              "        vertical-align: top;\n",
              "    }\n",
              "\n",
              "    .dataframe thead th {\n",
              "        text-align: right;\n",
              "    }\n",
              "</style>\n",
              "<table border=\"1\" class=\"dataframe\">\n",
              "  <thead>\n",
              "    <tr style=\"text-align: right;\">\n",
              "      <th></th>\n",
              "      <th>0</th>\n",
              "    </tr>\n",
              "  </thead>\n",
              "  <tbody>\n",
              "    <tr>\n",
              "      <th>KanaLabs|BlueMove</th>\n",
              "      <td>0.038023</td>\n",
              "    </tr>\n",
              "    <tr>\n",
              "      <th>KanaLabs|Hippo-Labs</th>\n",
              "      <td>0.022556</td>\n",
              "    </tr>\n",
              "    <tr>\n",
              "      <th>KanaLabs|Souffl3</th>\n",
              "      <td>0.023121</td>\n",
              "    </tr>\n",
              "    <tr>\n",
              "      <th>KanaLabs|Aries</th>\n",
              "      <td>0.028986</td>\n",
              "    </tr>\n",
              "    <tr>\n",
              "      <th>KanaLabs|liquidSwap</th>\n",
              "      <td>0.017011</td>\n",
              "    </tr>\n",
              "    <tr>\n",
              "      <th>...</th>\n",
              "      <td>...</td>\n",
              "    </tr>\n",
              "    <tr>\n",
              "      <th>Aux|AnimeSwap</th>\n",
              "      <td>0.281250</td>\n",
              "    </tr>\n",
              "    <tr>\n",
              "      <th>Aux|Topaz</th>\n",
              "      <td>0.068120</td>\n",
              "    </tr>\n",
              "    <tr>\n",
              "      <th>Aux|Argo</th>\n",
              "      <td>0.346774</td>\n",
              "    </tr>\n",
              "    <tr>\n",
              "      <th>Aux|HoustonSwap</th>\n",
              "      <td>0.230769</td>\n",
              "    </tr>\n",
              "    <tr>\n",
              "      <th>Aux|Cetus</th>\n",
              "      <td>0.181287</td>\n",
              "    </tr>\n",
              "  </tbody>\n",
              "</table>\n",
              "<p>132 rows × 1 columns</p>\n",
              "</div>\n",
              "      <button class=\"colab-df-convert\" onclick=\"convertToInteractive('df-31e4cdc4-7cac-4f0c-b039-08b3ec7e66a4')\"\n",
              "              title=\"Convert this dataframe to an interactive table.\"\n",
              "              style=\"display:none;\">\n",
              "        \n",
              "  <svg xmlns=\"http://www.w3.org/2000/svg\" height=\"24px\"viewBox=\"0 0 24 24\"\n",
              "       width=\"24px\">\n",
              "    <path d=\"M0 0h24v24H0V0z\" fill=\"none\"/>\n",
              "    <path d=\"M18.56 5.44l.94 2.06.94-2.06 2.06-.94-2.06-.94-.94-2.06-.94 2.06-2.06.94zm-11 1L8.5 8.5l.94-2.06 2.06-.94-2.06-.94L8.5 2.5l-.94 2.06-2.06.94zm10 10l.94 2.06.94-2.06 2.06-.94-2.06-.94-.94-2.06-.94 2.06-2.06.94z\"/><path d=\"M17.41 7.96l-1.37-1.37c-.4-.4-.92-.59-1.43-.59-.52 0-1.04.2-1.43.59L10.3 9.45l-7.72 7.72c-.78.78-.78 2.05 0 2.83L4 21.41c.39.39.9.59 1.41.59.51 0 1.02-.2 1.41-.59l7.78-7.78 2.81-2.81c.8-.78.8-2.07 0-2.86zM5.41 20L4 18.59l7.72-7.72 1.47 1.35L5.41 20z\"/>\n",
              "  </svg>\n",
              "      </button>\n",
              "      \n",
              "  <style>\n",
              "    .colab-df-container {\n",
              "      display:flex;\n",
              "      flex-wrap:wrap;\n",
              "      gap: 12px;\n",
              "    }\n",
              "\n",
              "    .colab-df-convert {\n",
              "      background-color: #E8F0FE;\n",
              "      border: none;\n",
              "      border-radius: 50%;\n",
              "      cursor: pointer;\n",
              "      display: none;\n",
              "      fill: #1967D2;\n",
              "      height: 32px;\n",
              "      padding: 0 0 0 0;\n",
              "      width: 32px;\n",
              "    }\n",
              "\n",
              "    .colab-df-convert:hover {\n",
              "      background-color: #E2EBFA;\n",
              "      box-shadow: 0px 1px 2px rgba(60, 64, 67, 0.3), 0px 1px 3px 1px rgba(60, 64, 67, 0.15);\n",
              "      fill: #174EA6;\n",
              "    }\n",
              "\n",
              "    [theme=dark] .colab-df-convert {\n",
              "      background-color: #3B4455;\n",
              "      fill: #D2E3FC;\n",
              "    }\n",
              "\n",
              "    [theme=dark] .colab-df-convert:hover {\n",
              "      background-color: #434B5C;\n",
              "      box-shadow: 0px 1px 3px 1px rgba(0, 0, 0, 0.15);\n",
              "      filter: drop-shadow(0px 1px 2px rgba(0, 0, 0, 0.3));\n",
              "      fill: #FFFFFF;\n",
              "    }\n",
              "  </style>\n",
              "\n",
              "      <script>\n",
              "        const buttonEl =\n",
              "          document.querySelector('#df-31e4cdc4-7cac-4f0c-b039-08b3ec7e66a4 button.colab-df-convert');\n",
              "        buttonEl.style.display =\n",
              "          google.colab.kernel.accessAllowed ? 'block' : 'none';\n",
              "\n",
              "        async function convertToInteractive(key) {\n",
              "          const element = document.querySelector('#df-31e4cdc4-7cac-4f0c-b039-08b3ec7e66a4');\n",
              "          const dataTable =\n",
              "            await google.colab.kernel.invokeFunction('convertToInteractive',\n",
              "                                                     [key], {});\n",
              "          if (!dataTable) return;\n",
              "\n",
              "          const docLinkHtml = 'Like what you see? Visit the ' +\n",
              "            '<a target=\"_blank\" href=https://colab.research.google.com/notebooks/data_table.ipynb>data table notebook</a>'\n",
              "            + ' to learn more about interactive tables.';\n",
              "          element.innerHTML = '';\n",
              "          dataTable['output_type'] = 'display_data';\n",
              "          await google.colab.output.renderOutput(dataTable, element);\n",
              "          const docLink = document.createElement('div');\n",
              "          docLink.innerHTML = docLinkHtml;\n",
              "          element.appendChild(docLink);\n",
              "        }\n",
              "      </script>\n",
              "    </div>\n",
              "  </div>\n",
              "  "
            ],
            "text/plain": [
              "                            0\n",
              "KanaLabs|BlueMove    0.038023\n",
              "KanaLabs|Hippo-Labs  0.022556\n",
              "KanaLabs|Souffl3     0.023121\n",
              "KanaLabs|Aries       0.028986\n",
              "KanaLabs|liquidSwap  0.017011\n",
              "...                       ...\n",
              "Aux|AnimeSwap        0.281250\n",
              "Aux|Topaz            0.068120\n",
              "Aux|Argo             0.346774\n",
              "Aux|HoustonSwap      0.230769\n",
              "Aux|Cetus            0.181287\n",
              "\n",
              "[132 rows x 1 columns]"
            ]
          },
          "execution_count": 34,
          "metadata": {},
          "output_type": "execute_result"
        }
      ],
      "source": [
        "pd.DataFrame.from_dict(prob_dic,orient=\"index\")"
      ]
    },
    {
      "cell_type": "code",
      "execution_count": 29,
      "metadata": {
        "colab": {
          "base_uri": "https://localhost:8080/"
        },
        "id": "Qt9VoHuO1w99",
        "outputId": "46a07d3e-47bc-4db0-ac20-fecf3eaaacfa"
      },
      "outputs": [
        {
          "name": "stdout",
          "output_type": "stream",
          "text": [
            "{'liquidSwap': 95600, 'KanaLabs': 1626.2454434993926, 'BlueMove': 10512.51518833536, 'Hippo-Labs': 24974.48359659781, 'Souffl3': 40191.49453219927, 'Aries': 3020.170109356015, 'AnimeSwap': 10105.953827460511, 'Topaz': 16378.614823815311, 'Argo': 5982.260024301338, 'HoustonSwap': 522.7217496962332, 'Cetus': 8015.066828675576, 'Aux': 9699.392466585663}\n",
            "{'liquidSwap': 77270.67669172931, 'KanaLabs': 2156.3909774436092, 'BlueMove': 13297.74436090226, 'Hippo-Labs': 24974.48359659781, 'Souffl3': 38994.73684210526, 'Aries': 8086.466165413534, 'AnimeSwap': 18688.721804511282, 'Topaz': 16712.030075187973, 'Argo': 13297.744360902258, 'HoustonSwap': 898.4962406015039, 'Cetus': 14735.33834586466, 'Aux': 17610.526315789477}\n"
          ]
        }
      ],
      "source": [
        "liquid_users = 95600\n",
        "hippo_users = 28000\n",
        "\n",
        "user_count_by_dapp = {\n",
        "    \"liquidSwap\": liquid_users,\n",
        "}\n",
        "for ab in prob_dic.keys():\n",
        "    A,B = ab.split(\"|\")\n",
        "    if B == \"liquidSwap\":\n",
        "        prob = prob_dic[ab]\n",
        "        user_count_by_dapp[A] = liquid_users*prob\n",
        "print(user_count_by_dapp)\n",
        "for ab in prob_dic.keys():\n",
        "    A,B = ab.split(\"|\")\n",
        "    if B == \"Hippo-Labs\":\n",
        "        prob = prob_dic[ab]\n",
        "        user_count_by_dapp[A] = liquid_users*prob\n",
        "\n",
        "\n",
        "    # user_count_by_dapp[A] += prob_dic[ab]*user_count_by_dapp[B]\n",
        "\n",
        "print(user_count_by_dapp)"
      ]
    },
    {
      "cell_type": "code",
      "execution_count": null,
      "metadata": {
        "colab": {
          "base_uri": "https://localhost:8080/"
        },
        "id": "Pz534QJk7vJm",
        "outputId": "a6432455-8611-446a-fbca-ed5e3c8ecaa8"
      },
      "outputs": [
        {
          "name": "stdout",
          "output_type": "stream",
          "text": [
            "AVG DAPPS USED BY USER: 3.5254237288135593\n"
          ]
        }
      ],
      "source": [
        "def avg_dapps_used(users_used_dapps):\n",
        "    total = 0\n",
        "    for user in users_used_dapps.keys():\n",
        "        total += len(users_used_dapps[user].keys())\n",
        "    return total/len(users_used_dapps.keys())\n",
        "\n",
        "avg_dapps_by_user = avg_dapps_used(users_used_dapps)\n",
        "print(\"AVG DAPPS USED BY USER:\",avg_dapps_by_user)\n"
      ]
    },
    {
      "cell_type": "code",
      "execution_count": null,
      "metadata": {
        "colab": {
          "base_uri": "https://localhost:8080/"
        },
        "id": "tL0tmHZr7vJn",
        "outputId": "b63a9187-6a8b-47cc-b053-3ad5a65b9666"
      },
      "outputs": [
        {
          "name": "stdout",
          "output_type": "stream",
          "text": [
            "{'balance': 29.48971122, 'BlueMove': 16, 'AnimeSwap': 34, 'KanaLabs': 1, 'Hippo-Labs': 8, 'Souffl3': 66, 'liquidSwap': 31, 'Cetus': 2, 'Topaz': 3, 'Aries': 2}\n"
          ]
        }
      ],
      "source": [
        "def avg_txns_per_dapp(users_used_dapps):\n",
        "    totals = {}\n",
        "    for user in users_used_dapps.keys():\n",
        "        for dapp in users_used_dapps[user].keys():\n",
        "            if dapp in totals.keys():\n",
        "                totals[dapp] += users_used_dapps[user][dapp]\n",
        "            else:\n",
        "                totals[dapp] = users_used_dapps[user][dapp]\n",
        "    print(totals)\n",
        "    return totals\n",
        "\n",
        "totals = avg_txns_per_dapp(users_used_dapps)"
      ]
    },
    {
      "cell_type": "code",
      "execution_count": 17,
      "metadata": {
        "colab": {
          "base_uri": "https://localhost:8080/"
        },
        "id": "IJStYXoM7vJo",
        "outputId": "d3e4da7a-e7c0-41d3-ffe0-075858294c50"
      },
      "outputs": [
        {
          "name": "stdout",
          "output_type": "stream",
          "text": [
            "{'balance': 8.56309932, 'AnimeSwap': 1, 'KanaLabs': 1, 'Hippo-Labs': 4, 'Souffl3': 4, 'Aux': 2, 'BlueMove': 1}\n",
            "{'balance': 0.50684493, 'AnimeSwap': 11}\n",
            "{'KanaLabs': 1, 'BlueMove': 1, 'Hippo-Labs': 4, 'Souffl3': 4, 'AnimeSwap': 10, 'Aux': 2}\n"
          ]
        },
        {
          "data": {
            "text/plain": [
              "{'KanaLabs': 1,\n",
              " 'BlueMove': 1,\n",
              " 'Hippo-Labs': 4,\n",
              " 'Souffl3': 4,\n",
              " 'AnimeSwap': 10,\n",
              " 'Aux': 2}"
            ]
          },
          "execution_count": 17,
          "metadata": {},
          "output_type": "execute_result"
        }
      ],
      "source": [
        "#  use k-means to cluster the users based on the dapps they use\n",
        "#  use the clusters to find the most popular dapps in each cluster\n",
        "dapp_ls = dapp_dic.values()\n",
        "def dapp_diff(user1,user2):\n",
        "    diff_dic = {}\n",
        "    for dapp in dapp_ls:\n",
        "        if dapp in user1.keys() and dapp in user2.keys():\n",
        "            diff_dic[dapp] = abs(user1[dapp]-user2[dapp])\n",
        "        elif dapp in user1.keys() and dapp not in user2.keys():\n",
        "            diff_dic[dapp] = user1[dapp]\n",
        "        elif dapp not in user1.keys() and dapp in user2.keys():\n",
        "            diff_dic[dapp] = user2[dapp]\n",
        "        else:\n",
        "            pass\n",
        "    print(diff_dic)\n",
        "    return diff_dic\n",
        "user_addrs = list(users_used_dapps.keys())\n",
        "user1 = users_used_dapps[user_addrs[0]]\n",
        "print(user1)\n",
        "user2 = users_used_dapps[user_addrs[1]]\n",
        "print(user2)\n",
        "dapp_diff(user1,user2)\n"
      ]
    },
    {
      "cell_type": "code",
      "execution_count": null,
      "metadata": {
        "colab": {
          "base_uri": "https://localhost:8080/",
          "height": 222
        },
        "id": "MU0jU8nb7vJo",
        "outputId": "0f87bd3c-f946-4497-ad22-0e1d16624523"
      },
      "outputs": [
        {
          "name": "stdout",
          "output_type": "stream",
          "text": [
            "DEGEN COUNT: 6\n"
          ]
        },
        {
          "ename": "TypeError",
          "evalue": "ignored",
          "output_type": "error",
          "traceback": [
            "\u001b[0;31m---------------------------------------------------------------------------\u001b[0m",
            "\u001b[0;31mTypeError\u001b[0m                                 Traceback (most recent call last)",
            "\u001b[0;32m<ipython-input-49-3340fa5fd95a>\u001b[0m in \u001b[0;36m<module>\u001b[0;34m\u001b[0m\n\u001b[1;32m     25\u001b[0m \u001b[0;34m\u001b[0m\u001b[0m\n\u001b[1;32m     26\u001b[0m \u001b[0;34m\u001b[0m\u001b[0m\n\u001b[0;32m---> 27\u001b[0;31m   \u001b[0md_mat\u001b[0m\u001b[0;34m.\u001b[0m\u001b[0mappend\u001b[0m\u001b[0;34m(\u001b[0m\u001b[0;34m)\u001b[0m\u001b[0;34m\u001b[0m\u001b[0;34m\u001b[0m\u001b[0m\n\u001b[0m",
            "\u001b[0;31mTypeError\u001b[0m: append() takes exactly one argument (0 given)"
          ]
        }
      ],
      "source": [
        "# determine if the user is a degen\n",
        "def count_degens(users_used_dapps):\n",
        "    degen_count = 0\n",
        "    for user in users_used_dapps.values():\n",
        "        if len(user)>3:\n",
        "            degen_count += 1\n",
        "    return degen_count\n",
        "\n",
        "degen_count = count_degens(users_used_dapps)\n",
        "print(\"DEGEN COUNT:\",degen_count)\n",
        "\n",
        "# print()\n",
        "d_keys = list(dapp_dic.values())\n",
        "d_mat = []\n",
        "\n",
        "for user in list(users_used_dapps.values())[:2]:\n",
        "  # show the dapps they used\n",
        "  d_entry = [0 for dapp in d_keys]\n",
        "  dapps = user.keys()\n",
        "  i=0\n",
        "  for key in d_keys:\n",
        "    if key in dapps:\n",
        "      d_entry[i]=1\n",
        "    i+=1\n",
        "\n",
        "    "
      ]
    },
    {
      "cell_type": "code",
      "execution_count": 19,
      "metadata": {
        "id": "nsq3Ki3iKRdH"
      },
      "outputs": [],
      "source": [
        "# determine if the user if a whale/bigshark\n",
        "def isWhale(user_dic):\n",
        "  if user_dic['balance'] > 1:\n",
        "    return \"Yes\"\n",
        "  return \"No\"\n"
      ]
    },
    {
      "cell_type": "code",
      "execution_count": null,
      "metadata": {
        "colab": {
          "base_uri": "https://localhost:8080/"
        },
        "id": "T4s2mIlf7vJp",
        "outputId": "ab451ac4-093b-4eba-defe-30b7f6d66f17"
      },
      "outputs": [
        {
          "name": "stdout",
          "output_type": "stream",
          "text": [
            "{'KanaLabs': 1, 'BlueMove': 1, 'Hippo-Labs': 4, 'Souffl3': 4, 'AnimeSwap': 10}\n",
            "20\n"
          ]
        }
      ],
      "source": [
        "# use dapp_diff to compute the distance between each user\n",
        "def user_distance(user1,user2):\n",
        "    diff_dic = dapp_diff(user1,user2)\n",
        "    total = 0\n",
        "    for dapp in diff_dic.keys():\n",
        "        total += diff_dic[dapp]\n",
        "    return total\n",
        "d = user_distance(user1,user2)\n",
        "print(d)"
      ]
    },
    {
      "cell_type": "code",
      "execution_count": 20,
      "metadata": {
        "id": "Wj1YphBbXa9O"
      },
      "outputs": [],
      "source": [
        "# create a text file to represent the apps the users use\n",
        "with open(\"user_dapps.txt\", \"w\") as output:\n",
        "    dapp_names = list(dapp_dic.values())\n",
        "    output.write(\" \".join(dapp_names)+ \" Big_Shark\" +\"\\n\")\n",
        "    for user in users_used_dapps.values():\n",
        "        isshark = isWhale(user)\n",
        "        for dapp_name in dapp_names:\n",
        "          dapp_postfix = dapp_name[0] + dapp_name[-1]\n",
        "          if dapp_name in user.keys():\n",
        "              user_txs = user[dapp_name]\n",
        "              if(user_txs>=5):\n",
        "                output.write(\"H-\"+dapp_postfix+\" \")\n",
        "              elif(user_txs>2):\n",
        "                output.write(\"M-\"+dapp_postfix+\" \")\n",
        "              elif(user_txs>0):\n",
        "                output.write(\"L-\"+dapp_postfix+\" \")\n",
        "\n",
        "          else:\n",
        "              output.write(\"N-\"+dapp_postfix+\" \")\n",
        "        output.write(isshark)\n",
        "        output.write(\"\\n\")"
      ]
    },
    {
      "cell_type": "code",
      "execution_count": null,
      "metadata": {
        "id": "LRtXyv2g7vJp"
      },
      "outputs": [],
      "source": [
        "FLASK_URL = \"localhost:5000\""
      ]
    }
  ],
  "metadata": {
    "colab": {
      "provenance": []
    },
    "kernelspec": {
      "display_name": "Python 3.8.6rc1 64-bit",
      "language": "python",
      "name": "python3"
    },
    "language_info": {
      "codemirror_mode": {
        "name": "ipython",
        "version": 3
      },
      "file_extension": ".py",
      "mimetype": "text/x-python",
      "name": "python",
      "nbconvert_exporter": "python",
      "pygments_lexer": "ipython3",
      "version": "3.8.6rc1"
    },
    "orig_nbformat": 4,
    "vscode": {
      "interpreter": {
        "hash": "aee8b7b246df8f9039afb4144a1f6fd8d2ca17a180786b69acc140d282b71a49"
      }
    }
  },
  "nbformat": 4,
  "nbformat_minor": 0
}
