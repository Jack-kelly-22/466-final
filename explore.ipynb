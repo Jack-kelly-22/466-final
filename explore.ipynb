{
 "cells": [
  {
   "cell_type": "markdown",
   "metadata": {},
   "source": [
    "# 466 final project\n",
    "\n",
    "### What we want "
   ]
  },
  {
   "cell_type": "markdown",
   "metadata": {},
   "source": [
    "we want to be able to take a set of users and use their previous transactions to predict what dapps they will use in the future."
   ]
  },
  {
   "cell_type": "markdown",
   "metadata": {},
   "source": [
    "## Load and clean user account data\n",
    "these users will be split up into training and testing sets\n",
    "this list of users was pulled from pontem's space pirate whitelist.\n",
    "Pontem is a dapp that allows users to earn 'interest' on their crypto holdings by providing liquidity through their dex (sets of liquidity pools)."
   ]
  },
  {
   "cell_type": "code",
   "execution_count": 80,
   "metadata": {},
   "outputs": [
    {
     "name": "stdout",
     "output_type": "stream",
     "text": [
      "ALL user ADDR COUNT: 31622\n",
      "PROPPER ADDR COUNT: 31622\n"
     ]
    }
   ],
   "source": [
    "import pandas as pd\n",
    "#load the users csv file (\n",
    "users = open('users.csv').readlines()\n",
    "user_temp = []\n",
    "for user in users:\n",
    "    if len(user)>=66:\n",
    "        user_temp.append(user.split(',')[0])\n",
    "print(\"ALL user ADDR COUNT:\",len(users))\n",
    "users = user_temp\n",
    "\n",
    "print(\"PROPPER ADDR COUNT:\",len(users))\n",
    "\n",
    "# Write the users to a new file\n",
    "# with open('users_clean.csv', 'w') as f:\n",
    "#     for user in users:\n",
    "#         f.write(user)\n"
   ]
  },
  {
   "cell_type": "markdown",
   "metadata": {},
   "source": [
    "We also need to load in the information about the dapps that we want to predict for. We will use the dapp list created by 'seam-money' an explorer for dapps on the network"
   ]
  },
  {
   "cell_type": "code",
   "execution_count": 81,
   "metadata": {},
   "outputs": [
    {
     "name": "stdout",
     "output_type": "stream",
     "text": [
      "DAPP COUNT: 14\n",
      "{'0x34e2eead0aefbc3d0af13c0522be94b002658f4bef8e0740a21086d22236ad77': 'Switchboard', '0x62fdfe47c9c37227be1f885e79be827be292fe1833ac63a2fe2c2c16c55ecb12': 'KanaLabs', '0xd1fd99c1944b84d1670a2536417e997864ad12303d19eac725891691b04d614e': 'BlueMove', '0x89576037b3cc0b89645ea393a47787bb348272c76d6941c574b053672b848039': 'Hippo Labs', '0x2c7bccf7b31baf770fdbcc768d9e9cb3d87805e255355df5db32ac9a669010a2': 'Souffl3', '0x9770fa9c725cbd97eb50b2be5f7416efdfd1f1554beb0750d4dae4c64e860da3': 'Aries', '0x190d44266241744264b964a37b8f09863167a12d3e70cda39376cfb4e3561e12': 'liquidSwap', '0x16fe2df00ea7dde4a63409201f7f4e536bde7bb7335526a35d05111e68aa322c': 'AnimeSwap', '0xa61f1c8f0e69bb866f2073f9a1ab0252efdd9f12c092256c68290d8dae35551e': 'Mojito', '0xd4c70815e9d245a097646af821ecf87a073039e71e93c8cd04a0da082134d296': 'Topaz', '0x98298d34bcf896c663e069c464754e0cfd36b50e21eedd8db0e4189168057cb7': 'Argo', '0x7ab72b249ec24f76fe66b6de19dcee1e3d3361db5c2cccfaa48ea8659060a1bd': 'HoustonSwap', '0xec42a352cc65eca17a9fa85d0fc602295897ed6b8b8af6a6c79ef490eb8f9eba': 'Cetus', '0xf22bede237a07e121b56d91a491eb7bcdfd1f5907926a9e58338f964a01b17fa': 'LayerZero'}\n"
     ]
    }
   ],
   "source": [
    "dapps = open('dapps.csv').readlines()\n",
    "# print(dapps)\n",
    "dapp_dic = {}\n",
    "for dapp in dapps:\n",
    "    d = dapp.split(',')\n",
    "    dapp_dic[d[0]] = d[1]\n",
    "print(\"DAPP COUNT:\",len(dapp_dic))\n",
    "print(dapp_dic)\n"
   ]
  },
  {
   "cell_type": "code",
   "execution_count": 82,
   "metadata": {},
   "outputs": [
    {
     "data": {
      "text/plain": [
       "'0x6d19623096d04c409b180b936f23a47d48aa4c3a48ebc21909d65308b1c7ccee'"
      ]
     },
     "execution_count": 82,
     "metadata": {},
     "output_type": "execute_result"
    }
   ],
   "source": [
    "users[1]"
   ]
  },
  {
   "cell_type": "code",
   "execution_count": 84,
   "metadata": {},
   "outputs": [
    {
     "name": "stdout",
     "output_type": "stream",
     "text": [
      "{'liquidSwap': 1}\n",
      "{'Hippo Labs': 2, 'liquidSwap': 4, 'Souffl3': 1, 'Topaz': 1}\n",
      "{'BlueMove': 1, 'liquidSwap': 1, 'Souffl3': 3, 'Hippo Labs': 1}\n",
      "{'Souffl3': 9, 'liquidSwap': 1, 'Topaz': 1}\n",
      "{'liquidSwap': 5, 'Souffl3': 13, 'Topaz': 1}\n",
      "{'liquidSwap': 10, 'AnimeSwap': 3, 'Aries': 2}\n",
      "{'liquidSwap': 1, 'Souffl3': 1, 'BlueMove': 3}\n",
      "{'liquidSwap': 7, 'Cetus': 4, 'Souffl3': 4, 'Topaz': 5, 'KanaLabs': 1}\n",
      "{'liquidSwap': 1}\n",
      "{'liquidSwap': 14, 'Souffl3': 1}\n",
      "{'liquidSwap': 5, 'LayerZero': 1, 'Souffl3': 1}\n",
      "{'Hippo Labs': 4, 'liquidSwap': 10}\n",
      "{'liquidSwap': 3, 'Hippo Labs': 6}\n",
      "{'BlueMove': 1, 'liquidSwap': 1}\n",
      "{'Cetus': 7, 'liquidSwap': 6, 'Hippo Labs': 6}\n",
      "{'Souffl3': 3, 'Topaz': 3, 'AnimeSwap': 1, 'BlueMove': 4}\n",
      "{'liquidSwap': 1, 'Hippo Labs': 9, 'Cetus': 10}\n",
      "{'liquidSwap': 25}\n",
      "{'Souffl3': 4, 'BlueMove': 1}\n",
      "{'liquidSwap': 18}\n",
      "{'liquidSwap': 2, 'Souffl3': 3, 'Topaz': 4, 'Cetus': 1}\n",
      "{'Argo': 5, 'liquidSwap': 1, 'LayerZero': 3, 'Souffl3': 1}\n",
      "{'Argo': 8, 'liquidSwap': 3, 'Hippo Labs': 1, 'Souffl3': 2}\n",
      "{'Hippo Labs': 2, 'liquidSwap': 4, 'Souffl3': 1, 'Topaz': 2}\n",
      "{'liquidSwap': 14}\n",
      "{'liquidSwap': 2}\n",
      "{'Souffl3': 1, 'BlueMove': 13, 'Topaz': 10}\n",
      "{'liquidSwap': 4, 'Souffl3': 1}\n",
      "{'Hippo Labs': 4, 'AnimeSwap': 2}\n",
      "{'liquidSwap': 2, 'LayerZero': 2}\n",
      "{'liquidSwap': 4, 'Souffl3': 7, 'Topaz': 3}\n",
      "{'liquidSwap': 2, 'Souffl3': 1}\n",
      "{'liquidSwap': 7}\n",
      "{'BlueMove': 9, 'liquidSwap': 2}\n",
      "{'liquidSwap': 4, 'Hippo Labs': 2, 'BlueMove': 1, 'Souffl3': 3}\n",
      "{'liquidSwap': 6}\n",
      "{'liquidSwap': 2, 'LayerZero': 1}\n",
      "{'LayerZero': 1, 'liquidSwap': 5, 'Aries': 4, 'Souffl3': 2, 'Topaz': 4}\n",
      "{'liquidSwap': 7, 'BlueMove': 8, 'LayerZero': 1}\n",
      "{'liquidSwap': 1, 'Hippo Labs': 14, 'Aries': 5}\n",
      "{'Topaz': 16, 'Souffl3': 4}\n",
      "{'Souffl3': 4, 'BlueMove': 7, 'liquidSwap': 4}\n",
      "{'liquidSwap': 3, 'LayerZero': 1}\n",
      "{'liquidSwap': 1, 'Hippo Labs': 1, 'Souffl3': 1}\n",
      "{'Aries': 14, 'Hippo Labs': 6, 'LayerZero': 2}\n",
      "{'liquidSwap': 23}\n",
      "{'liquidSwap': 12, 'Souffl3': 2, 'Topaz': 4}\n",
      "{'liquidSwap': 6, 'Hippo Labs': 1, 'Argo': 1, 'Cetus': 1}\n",
      "{'liquidSwap': 4, 'AnimeSwap': 5, 'Souffl3': 2}\n",
      "{'liquidSwap': 3, 'Hippo Labs': 3}\n",
      "{'liquidSwap': 8, 'LayerZero': 2}\n",
      "{'liquidSwap': 1, 'Hippo Labs': 1}\n",
      "{'liquidSwap': 5, 'Souffl3': 3}\n",
      "{'liquidSwap': 1, 'Souffl3': 1, 'Topaz': 2}\n",
      "{'liquidSwap': 6}\n",
      "{'LayerZero': 1, 'liquidSwap': 6, 'Hippo Labs': 2, 'BlueMove': 1, 'Souffl3': 1, 'Topaz': 1, 'Cetus': 2}\n",
      "{'liquidSwap': 4, 'Souffl3': 1, 'Topaz': 1, 'LayerZero': 1, 'KanaLabs': 1}\n",
      "{'AnimeSwap': 2, 'liquidSwap': 3, 'Hippo Labs': 1}\n",
      "{'liquidSwap': 2, 'Hippo Labs': 2, 'Souffl3': 1}\n",
      "{'Souffl3': 3}\n",
      "{'liquidSwap': 3}\n",
      "{'Hippo Labs': 2, 'liquidSwap': 4, 'Souffl3': 1}\n",
      "{'liquidSwap': 5}\n",
      "{'liquidSwap': 19, 'LayerZero': 1, 'Souffl3': 1, 'Topaz': 1}\n",
      "{'liquidSwap': 3, 'Souffl3': 2, 'Topaz': 2}\n",
      "{'Hippo Labs': 5, 'liquidSwap': 8}\n",
      "{'BlueMove': 7, 'Souffl3': 8, 'Topaz': 2}\n",
      "{'liquidSwap': 2}\n",
      "{'liquidSwap': 8, 'Souffl3': 1, 'Topaz': 1}\n",
      "{'liquidSwap': 3, 'LayerZero': 2, 'Souffl3': 1, 'Topaz': 2}\n",
      "{'liquidSwap': 5, 'LayerZero': 1, 'Hippo Labs': 6, 'Souffl3': 1}\n",
      "{'liquidSwap': 6}\n",
      "{'BlueMove': 2, 'liquidSwap': 2, 'Cetus': 3, 'KanaLabs': 3, 'AnimeSwap': 1, 'Hippo Labs': 1}\n",
      "{'Hippo Labs': 16, 'Souffl3': 1, 'Topaz': 4}\n",
      "{'liquidSwap': 2, 'Souffl3': 1}\n",
      "{'Cetus': 3, 'liquidSwap': 7, 'Souffl3': 3, 'Topaz': 1}\n",
      "{'liquidSwap': 1, 'Hippo Labs': 3}\n",
      "{'liquidSwap': 4}\n",
      "{'liquidSwap': 6, 'AnimeSwap': 1, 'Aries': 3, 'Hippo Labs': 7}\n",
      "{'Hippo Labs': 8, 'liquidSwap': 15}\n"
     ]
    }
   ],
   "source": [
    "# from flask import jsonify\n",
    "import requests\n",
    "import random\n",
    "NODE_URL = \"https://fullnode.mainnet.aptoslabs.com/v1\"\n",
    "def get_account_transactions(address):\n",
    "    user_dapps = {}\n",
    "    response = requests.get(\n",
    "        f\"{NODE_URL}/accounts/{address}/transactions\",\n",
    "        params={\"limit\": 100}\n",
    "        )\n",
    "    txs = response.json()\n",
    "    # print(len(txs))\n",
    "    txns_temp = []\n",
    "    for tx in txs:\n",
    "        # print(tx['type'])\n",
    "        try:\n",
    "            txn = {}\n",
    "            payload = tx['payload']\n",
    "            to = payload['function'].split('::')[0]\n",
    "            func = payload['function'].split('::')[2]\n",
    "            mod = payload['function'].split('::')[1]\n",
    "            txn['function'] = func\n",
    "            txn['module'] = mod\n",
    "            txn['sender'] = to\n",
    "            txn['arguments'] = payload['arguments']\n",
    "            txn['type_args'] = payload['type_args']\n",
    "            txn['address'] = tx['sender']\n",
    "            if to in dapp_dic.keys():\n",
    "                # print(dapp_dic[to])\n",
    "                dapp_name = dapp_dic[to]\n",
    "                if dapp_name in user_dapps.keys():\n",
    "                    user_dapps[dapp_name] = 1 + user_dapps[dapp_name]\n",
    "                    \n",
    "                else:\n",
    "                    user_dapps[dapp_name] = 1\n",
    "        except:\n",
    "            # print(e)\n",
    "            pass\n",
    "\n",
    "    return txs,user_dapps\n",
    "\n",
    "\n",
    "def find_dapps_used(address):\n",
    "    transactions,dapps = get_account_transactions(address)\n",
    "    return dapps\n",
    "\n",
    "\n",
    "users_used_dapps = {}\n",
    "demo_users = random.sample(users, 100)\n",
    "for user in users[120:200]:\n",
    "    # print(\"USER:\",user)\n",
    "    users_used_dapps[user] = find_dapps_used(user)\n",
    "\n",
    "    print(users_used_dapps[user])\n",
    "    # find_dapps_used(user)\n",
    "# dapps = find_dapps_used(users[0])\n",
    "\n",
    "# write the dapps to a new file\n",
    "# with open('users_used_dapps.csv', 'w') as f:\n",
    "#     for user in users_used_dapps.keys():\n",
    "#         f.write(jsonify(users_used_dapps[user]))\n",
    "    \n",
    "\n",
    "\n",
    "\n"
   ]
  },
  {
   "cell_type": "code",
   "execution_count": null,
   "metadata": {},
   "outputs": [],
   "source": []
  },
  {
   "cell_type": "code",
   "execution_count": null,
   "metadata": {},
   "outputs": [],
   "source": [
    "FLASK_URL = \"localhost:5000\""
   ]
  }
 ],
 "metadata": {
  "kernelspec": {
   "display_name": "Python 3.8.6rc1 64-bit",
   "language": "python",
   "name": "python3"
  },
  "language_info": {
   "codemirror_mode": {
    "name": "ipython",
    "version": 3
   },
   "file_extension": ".py",
   "mimetype": "text/x-python",
   "name": "python",
   "nbconvert_exporter": "python",
   "pygments_lexer": "ipython3",
   "version": "3.8.6"
  },
  "orig_nbformat": 4,
  "vscode": {
   "interpreter": {
    "hash": "aee8b7b246df8f9039afb4144a1f6fd8d2ca17a180786b69acc140d282b71a49"
   }
  }
 },
 "nbformat": 4,
 "nbformat_minor": 2
}
