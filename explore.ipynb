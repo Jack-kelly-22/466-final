{
 "cells": [
  {
   "cell_type": "markdown",
   "metadata": {},
   "source": [
    "# 466 final project\n",
    "\n",
    "### What we want "
   ]
  },
  {
   "cell_type": "markdown",
   "metadata": {},
   "source": [
    "we want to be able to take a set of users and use their previous transactions to predict what dapps they will use in the future."
   ]
  },
  {
   "cell_type": "markdown",
   "metadata": {},
   "source": [
    "## Load and clean user account data\n",
    "these users will be split up into training and testing sets\n",
    "this list of users was pulled from pontem's space pirate whitelist.\n",
    "Pontem is a dapp that allows users to earn 'interest' on their crypto holdings by providing liquidity through their dex (sets of liquidity pools)."
   ]
  },
  {
   "cell_type": "code",
   "execution_count": 3,
   "metadata": {},
   "outputs": [
    {
     "name": "stdout",
     "output_type": "stream",
     "text": [
      "ALL user ADDR COUNT: 31622\n",
      "PROPPER ADDR COUNT: 31622\n"
     ]
    }
   ],
   "source": [
    "import pandas as pd\n",
    "#load the users csv file (\n",
    "users = open('users.csv').readlines()\n",
    "user_temp = []\n",
    "for user in users:\n",
    "    if len(user)>=66:\n",
    "        user_temp.append(user.split(',')[0])\n",
    "print(\"ALL user ADDR COUNT:\",len(users))\n",
    "users = user_temp\n",
    "\n",
    "print(\"PROPPER ADDR COUNT:\",len(users))\n",
    "\n",
    "# Write the users to a new file\n",
    "# with open('users_clean.csv', 'w') as f:\n",
    "#     for user in users:\n",
    "#         f.write(user)\n"
   ]
  },
  {
   "cell_type": "markdown",
   "metadata": {},
   "source": [
    "We also need to load in the information about the dapps that we want to predict for. We will use the dapp list created by 'seam-money' an explorer for dapps on the network"
   ]
  },
  {
   "cell_type": "code",
   "execution_count": 4,
   "metadata": {},
   "outputs": [
    {
     "name": "stdout",
     "output_type": "stream",
     "text": [
      "DAPP COUNT: 14\n",
      "{'0x34e2eead0aefbc3d0af13c0522be94b002658f4bef8e0740a21086d22236ad77': 'Switchboard', '0x62fdfe47c9c37227be1f885e79be827be292fe1833ac63a2fe2c2c16c55ecb12': 'KanaLabs', '0xd1fd99c1944b84d1670a2536417e997864ad12303d19eac725891691b04d614e': 'BlueMove', '0x89576037b3cc0b89645ea393a47787bb348272c76d6941c574b053672b848039': 'Hippo Labs', '0x2c7bccf7b31baf770fdbcc768d9e9cb3d87805e255355df5db32ac9a669010a2': 'Souffl3', '0x9770fa9c725cbd97eb50b2be5f7416efdfd1f1554beb0750d4dae4c64e860da3': 'Aries', '0x190d44266241744264b964a37b8f09863167a12d3e70cda39376cfb4e3561e12': 'liquidSwap', '0x16fe2df00ea7dde4a63409201f7f4e536bde7bb7335526a35d05111e68aa322c': 'AnimeSwap', '0xa61f1c8f0e69bb866f2073f9a1ab0252efdd9f12c092256c68290d8dae35551e': 'Mojito', '0xd4c70815e9d245a097646af821ecf87a073039e71e93c8cd04a0da082134d296': 'Topaz', '0x98298d34bcf896c663e069c464754e0cfd36b50e21eedd8db0e4189168057cb7': 'Argo', '0x7ab72b249ec24f76fe66b6de19dcee1e3d3361db5c2cccfaa48ea8659060a1bd': 'HoustonSwap', '0xec42a352cc65eca17a9fa85d0fc602295897ed6b8b8af6a6c79ef490eb8f9eba': 'Cetus', '0xf22bede237a07e121b56d91a491eb7bcdfd1f5907926a9e58338f964a01b17fa': 'LayerZero'}\n"
     ]
    }
   ],
   "source": [
    "dapps = open('dapps.csv').readlines()\n",
    "# print(dapps)\n",
    "dapp_dic = {}\n",
    "dapp_types = {}\n",
    "for dapp in dapps:\n",
    "    d = dapp.split(',')\n",
    "    dapp_dic[d[0]] = d[1]\n",
    "    dapp_types[d[1]] = dapp_types.get(d[-1])\n",
    "print(\"DAPP COUNT:\",len(dapp_dic))\n",
    "print(\"DAPP TYPES:\",len(dapp_types))\n",
    "print(dapp_dic)\n"
   ]
  },
  {
   "cell_type": "code",
   "execution_count": 5,
   "metadata": {},
   "outputs": [
    {
     "data": {
      "text/plain": [
       "'0x9ee9892d8600ed0bf65173d801ab75204a16ac2c6f190454a3b98f6bcb99d915'"
      ]
     },
     "execution_count": 5,
     "metadata": {},
     "output_type": "execute_result"
    }
   ],
   "source": [
    "users[0]"
   ]
  },
  {
   "cell_type": "code",
   "execution_count": 18,
   "metadata": {},
   "outputs": [
    {
     "name": "stdout",
     "output_type": "stream",
     "text": [
      "{'Souffl3': 8, 'liquidSwap': 10, 'Hippo Labs': 2}\n",
      "{'liquidSwap': 4, 'Souffl3': 5}\n",
      "{'liquidSwap': 2, 'Souffl3': 3}\n",
      "{'liquidSwap': 2, 'BlueMove': 6}\n",
      "{'liquidSwap': 15, 'Souffl3': 5, 'Topaz': 1}\n"
     ]
    }
   ],
   "source": [
    "# from flask import jsonify\n",
    "import requests\n",
    "import random\n",
    "NODE_URL = \"https://fullnode.mainnet.aptoslabs.com/v1\"\n",
    "def get_account_transactions(address):\n",
    "    user_dapps = {}\n",
    "    response = requests.get(\n",
    "        f\"{NODE_URL}/accounts/{address}/transactions\",\n",
    "        params={\"limit\": 50}\n",
    "        )\n",
    "    txs = response.json()\n",
    "    # print(len(txs))\n",
    "    txns_temp = []\n",
    "    for tx in txs:\n",
    "        try:\n",
    "            txn = {}\n",
    "            payload = tx['payload']\n",
    "            to = payload['function'].split('::')[0]\n",
    "            func = payload['function'].split('::')[2]\n",
    "            mod = payload['function'].split('::')[1]\n",
    "            txn['function'] = func\n",
    "            txn['module'] = mod\n",
    "            if to in dapp_dic.keys():\n",
    "                dapp_name = dapp_dic[to]\n",
    "                if dapp_name in user_dapps.keys():\n",
    "                    user_dapps[dapp_name] = 1 + user_dapps[dapp_name]\n",
    "                else:\n",
    "                    user_dapps[dapp_name] = 1\n",
    "            txns_temp.append(txn)\n",
    "        except:\n",
    "            # print(e)\n",
    "            pass\n",
    "\n",
    "\n",
    "    return txns_temp,user_dapps\n",
    "\n",
    "\n",
    "def find_dapps_used(address):\n",
    "    transactions,dapps = get_account_transactions(address)\n",
    "    return dapps\n",
    "\n",
    "\n",
    "users_used_dapps = {}\n",
    "demo_users = random.sample(users, 100)\n",
    "for user in users[100:110]:\n",
    "    # print(\"USER:\",user)\n",
    "    dapps = find_dapps_used(user)\n",
    "    if len(dapps.keys())>1:\n",
    "        users_used_dapps[user] = dapps\n",
    "        print(users_used_dapps[user])\n",
    "\n",
    "\n"
   ]
  },
  {
   "cell_type": "code",
   "execution_count": 22,
   "metadata": {},
   "outputs": [
    {
     "name": "stdout",
     "output_type": "stream",
     "text": [
      "2.4\n"
     ]
    }
   ],
   "source": [
    "# find the average number of dapps used by a user\n",
    "# find the average number of transactions per dapp\n",
    "\n",
    "def avg_dapps_used(users_used_dapps):\n",
    "    total = 0\n",
    "    for user in users_used_dapps.keys():\n",
    "        total += len(users_used_dapps[user].keys())\n",
    "    return total/len(users_used_dapps.keys())\n",
    "\n",
    "avg_dapps_by_user = avg_dapps_used(users_used_dapps)\n",
    "print(\"AVG DAPPS USED BY USER:\",avg_dapps_by_user)\n",
    "\n"
   ]
  },
  {
   "cell_type": "code",
   "execution_count": 24,
   "metadata": {},
   "outputs": [
    {
     "name": "stdout",
     "output_type": "stream",
     "text": [
      "{'Souffl3': 21, 'liquidSwap': 33, 'Hippo Labs': 2, 'BlueMove': 6, 'Topaz': 1}\n"
     ]
    }
   ],
   "source": [
    "def avg_txns_per_dapp(users_used_dapps):\n",
    "    totals = {}\n",
    "    for user in users_used_dapps.keys():\n",
    "        for dapp in users_used_dapps[user].keys():\n",
    "            if dapp in totals.keys():\n",
    "                totals[dapp] += users_used_dapps[user][dapp]\n",
    "            else:\n",
    "                totals[dapp] = users_used_dapps[user][dapp]\n",
    "    print(totals)\n",
    "    return totals\n",
    "\n",
    "totals = avg_txns_per_dapp(users_used_dapps)"
   ]
  },
  {
   "cell_type": "code",
   "execution_count": 20,
   "metadata": {},
   "outputs": [
    {
     "name": "stdout",
     "output_type": "stream",
     "text": [
      "{'Souffl3': 8, 'liquidSwap': 10, 'Hippo Labs': 2}\n",
      "{'liquidSwap': 4, 'Souffl3': 5}\n",
      "{'Hippo Labs': 2, 'Souffl3': 3, 'liquidSwap': 6}\n"
     ]
    },
    {
     "data": {
      "text/plain": [
       "{'Hippo Labs': 2, 'Souffl3': 3, 'liquidSwap': 6}"
      ]
     },
     "execution_count": 20,
     "metadata": {},
     "output_type": "execute_result"
    }
   ],
   "source": [
    "#  use k-means to cluster the users based on the dapps they use\n",
    "#  use the clusters to find the most popular dapps in each cluster\n",
    "dapp_ls = dapp_dic.values()\n",
    "def dapp_diff(user1,user2):\n",
    "    diff_dic = {}\n",
    "    for dapp in dapp_ls:\n",
    "        if dapp in user1.keys() and dapp in user2.keys():\n",
    "            diff_dic[dapp] = abs(user1[dapp]-user2[dapp])\n",
    "        elif dapp in user1.keys() and dapp not in user2.keys():\n",
    "            diff_dic[dapp] = user1[dapp]\n",
    "        elif dapp not in user1.keys() and dapp in user2.keys():\n",
    "            diff_dic[dapp] = user2[dapp]\n",
    "        else:\n",
    "            pass\n",
    "    print(diff_dic)\n",
    "    return diff_dic\n",
    "user_addrs = list(users_used_dapps.keys())\n",
    "user1 = users_used_dapps[user_addrs[0]]\n",
    "print(user1)\n",
    "user2 = users_used_dapps[user_addrs[1]]\n",
    "print(user2)\n",
    "dapp_diff(user1,user2)\n"
   ]
  },
  {
   "cell_type": "code",
   "execution_count": null,
   "metadata": {},
   "outputs": [],
   "source": [
    "# categorize the dapps by type"
   ]
  },
  {
   "cell_type": "code",
   "execution_count": 23,
   "metadata": {},
   "outputs": [
    {
     "name": "stdout",
     "output_type": "stream",
     "text": [
      "{'Hippo Labs': 2, 'Souffl3': 3, 'liquidSwap': 6}\n",
      "11\n"
     ]
    }
   ],
   "source": [
    "# use dapp_diff to compute the distance between each user\n",
    "def user_distance(user1,user2):\n",
    "    diff_dic = dapp_diff(user1,user2)\n",
    "    total = 0\n",
    "    for dapp in diff_dic.keys():\n",
    "        total += diff_dic[dapp]\n",
    "    return total\n",
    "d = user_distance(user1,user2)\n",
    "print(d)"
   ]
  },
  {
   "cell_type": "code",
   "execution_count": 8,
   "metadata": {},
   "outputs": [],
   "source": [
    "FLASK_URL = \"localhost:5000\""
   ]
  }
 ],
 "metadata": {
  "kernelspec": {
   "display_name": "Python 3.8.6rc1 64-bit",
   "language": "python",
   "name": "python3"
  },
  "language_info": {
   "codemirror_mode": {
    "name": "ipython",
    "version": 3
   },
   "file_extension": ".py",
   "mimetype": "text/x-python",
   "name": "python",
   "nbconvert_exporter": "python",
   "pygments_lexer": "ipython3",
   "version": "3.8.6rc1"
  },
  "orig_nbformat": 4,
  "vscode": {
   "interpreter": {
    "hash": "aee8b7b246df8f9039afb4144a1f6fd8d2ca17a180786b69acc140d282b71a49"
   }
  }
 },
 "nbformat": 4,
 "nbformat_minor": 2
}
